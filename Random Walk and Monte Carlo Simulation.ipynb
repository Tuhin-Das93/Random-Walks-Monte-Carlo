{
 "cells": [
  {
   "cell_type": "markdown",
   "id": "889f0b26",
   "metadata": {},
   "source": [
    "### Random Walk Function"
   ]
  },
  {
   "cell_type": "code",
   "execution_count": 8,
   "id": "10b58221",
   "metadata": {
    "scrolled": true
   },
   "outputs": [
    {
     "name": "stdout",
     "output_type": "stream",
     "text": [
      "(2, -4) Distance from home =  6\n",
      "(-2, -2) Distance from home =  4\n",
      "(-4, 0) Distance from home =  4\n",
      "(-2, 0) Distance from home =  2\n",
      "(3, -1) Distance from home =  4\n",
      "(1, 3) Distance from home =  4\n",
      "(-1, 1) Distance from home =  2\n",
      "(0, 4) Distance from home =  4\n",
      "(-2, 2) Distance from home =  4\n",
      "(-3, 1) Distance from home =  4\n",
      "(-3, -3) Distance from home =  6\n",
      "(2, 0) Distance from home =  2\n",
      "(0, 0) Distance from home =  0\n",
      "(1, -1) Distance from home =  2\n",
      "(-1, -1) Distance from home =  2\n",
      "(3, 3) Distance from home =  6\n",
      "(-2, -2) Distance from home =  4\n",
      "(1, -3) Distance from home =  4\n",
      "(0, 0) Distance from home =  0\n",
      "(-2, 4) Distance from home =  6\n",
      "(-2, 2) Distance from home =  4\n",
      "(0, 2) Distance from home =  2\n",
      "(1, -3) Distance from home =  4\n",
      "(1, 1) Distance from home =  2\n",
      "(1, -3) Distance from home =  4\n"
     ]
    }
   ],
   "source": [
    "import random\n",
    "\n",
    "def random_walk(n):\n",
    "    \"\"\"Return coordinates after 'n' block random walk. \"\"\"\n",
    "    x, y = 0,0\n",
    "    for i in range(n):\n",
    "        (dx, dy) = random.choice([(0, 1), (0, -1), (1, 0), (-1, 0)])\n",
    "        x += dx\n",
    "        y += dy\n",
    "    return (x, y)\n",
    "\n",
    "for i in range(25):\n",
    "    walk = random_walk(10)\n",
    "    print(walk, \"Distance from home = \", abs(walk[0]) + abs(walk[1]))"
   ]
  },
  {
   "cell_type": "markdown",
   "id": "cb8b0f51",
   "metadata": {},
   "source": [
    "### Monte Carlo Simulation"
   ]
  },
  {
   "cell_type": "code",
   "execution_count": 10,
   "id": "b82e39bb",
   "metadata": {},
   "outputs": [
    {
     "name": "stdout",
     "output_type": "stream",
     "text": [
      "walk size =  1 / % of no transport =  100.0\n",
      "walk size =  2 / % of no transport =  100.0\n",
      "walk size =  3 / % of no transport =  100.0\n",
      "walk size =  4 / % of no transport =  100.0\n",
      "walk size =  5 / % of no transport =  87.99\n",
      "walk size =  6 / % of no transport =  93.955\n",
      "walk size =  7 / % of no transport =  76.875\n",
      "walk size =  8 / % of no transport =  86.83999999999999\n",
      "walk size =  9 / % of no transport =  67.24\n",
      "walk size =  10 / % of no transport =  79.69500000000001\n",
      "walk size =  11 / % of no transport =  59.33500000000001\n",
      "walk size =  12 / % of no transport =  72.75500000000001\n",
      "walk size =  13 / % of no transport =  53.92\n",
      "walk size =  14 / % of no transport =  67.41\n",
      "walk size =  15 / % of no transport =  48.235\n",
      "walk size =  16 / % of no transport =  62.79\n",
      "walk size =  17 / % of no transport =  44.295\n",
      "walk size =  18 / % of no transport =  57.794999999999995\n",
      "walk size =  19 / % of no transport =  41.515\n",
      "walk size =  20 / % of no transport =  53.915\n",
      "walk size =  21 / % of no transport =  37.595\n",
      "walk size =  22 / % of no transport =  51.005\n",
      "walk size =  23 / % of no transport =  35.06\n",
      "walk size =  24 / % of no transport =  47.995\n",
      "walk size =  25 / % of no transport =  33.269999999999996\n",
      "walk size =  26 / % of no transport =  45.365\n",
      "walk size =  27 / % of no transport =  31.465\n",
      "walk size =  28 / % of no transport =  43.16\n",
      "walk size =  29 / % of no transport =  29.38\n",
      "walk size =  30 / % of no transport =  40.115\n"
     ]
    }
   ],
   "source": [
    "import random\n",
    "\n",
    "def random_walk(n):\n",
    "    \"\"\"Return coordinates after 'n' block random walk. \"\"\"\n",
    "    x, y = 0,0\n",
    "    for i in range(n):\n",
    "        (dx, dy) = random.choice([(0, 1), (0, -1), (1, 0), (-1, 0)])\n",
    "        x += dx\n",
    "        y += dy\n",
    "    return (x, y)\n",
    "\n",
    "number_of_walks = 20000\n",
    "for walk_length in range(1,31):\n",
    "    no_transport = 0 #Number of walks 4 or fewer blocks from home\n",
    "    for i in range(number_of_walks):\n",
    "        (x, y) = random_walk(walk_length)\n",
    "        distance = abs(x) + abs(y)\n",
    "        if distance <=4:\n",
    "            no_transport +=1\n",
    "    no_transport_percentage = float(no_transport) / number_of_walks\n",
    "    print(\"walk size = \", walk_length,\n",
    "         \"/ % of no transport = \", 100 * no_transport_percentage)"
   ]
  },
  {
   "cell_type": "code",
   "execution_count": null,
   "id": "17b5b62b",
   "metadata": {},
   "outputs": [],
   "source": []
  }
 ],
 "metadata": {
  "kernelspec": {
   "display_name": "Python 3",
   "language": "python",
   "name": "python3"
  },
  "language_info": {
   "codemirror_mode": {
    "name": "ipython",
    "version": 3
   },
   "file_extension": ".py",
   "mimetype": "text/x-python",
   "name": "python",
   "nbconvert_exporter": "python",
   "pygments_lexer": "ipython3",
   "version": "3.8.8"
  }
 },
 "nbformat": 4,
 "nbformat_minor": 5
}
